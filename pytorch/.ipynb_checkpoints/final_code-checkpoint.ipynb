{
 "cells": [
  {
   "cell_type": "code",
   "execution_count": 2,
   "id": "6a150c9e",
   "metadata": {},
   "outputs": [
    {
     "name": "stdout",
     "output_type": "stream",
     "text": [
      "Collecting torch\n",
      "  Downloading torch-2.7.0-cp39-cp39-win_amd64.whl (212.4 MB)\n",
      "Requirement already satisfied: typing-extensions>=4.10.0 in c:\\users\\fgr10\\anaconda3\\lib\\site-packages (from torch) (4.13.2)\n",
      "Requirement already satisfied: fsspec in c:\\users\\fgr10\\anaconda3\\lib\\site-packages (from torch) (2022.2.0)\n",
      "Requirement already satisfied: filelock in c:\\users\\fgr10\\anaconda3\\lib\\site-packages (from torch) (3.6.0)\n",
      "Requirement already satisfied: networkx in c:\\users\\fgr10\\anaconda3\\lib\\site-packages (from torch) (2.7.1)\n",
      "Collecting sympy>=1.13.3\n",
      "  Downloading sympy-1.14.0-py3-none-any.whl (6.3 MB)\n",
      "Requirement already satisfied: jinja2 in c:\\users\\fgr10\\anaconda3\\lib\\site-packages (from torch) (2.11.3)\n",
      "Requirement already satisfied: mpmath<1.4,>=1.1.0 in c:\\users\\fgr10\\anaconda3\\lib\\site-packages (from sympy>=1.13.3->torch) (1.2.1)\n",
      "Requirement already satisfied: MarkupSafe>=0.23 in c:\\users\\fgr10\\anaconda3\\lib\\site-packages (from jinja2->torch) (2.0.1)\n",
      "Installing collected packages: sympy, torch\n",
      "  Attempting uninstall: sympy\n",
      "    Found existing installation: sympy 1.10.1\n",
      "    Uninstalling sympy-1.10.1:\n",
      "      Successfully uninstalled sympy-1.10.1\n",
      "Successfully installed sympy-1.14.0 torch-2.7.0\n"
     ]
    }
   ],
   "source": [
    "!pip install torch\n"
   ]
  },
  {
   "cell_type": "code",
   "execution_count": 7,
   "id": "f1b995c9",
   "metadata": {},
   "outputs": [
    {
     "name": "stdout",
     "output_type": "stream",
     "text": [
      "Columns: Index(['win', 'kills', 'deaths', 'assists', 'gold_earned', 'cs',\n",
      "       'wards_placed', 'wards_killed', 'damage_dealt'],\n",
      "      dtype='object')\n"
     ]
    },
    {
     "ename": "ValueError",
     "evalue": "Target column 'blueWins' not found in dataset. Please update the code with the correct column name.",
     "output_type": "error",
     "traceback": [
      "\u001b[1;31m---------------------------------------------------------------------------\u001b[0m",
      "\u001b[1;31mValueError\u001b[0m                                Traceback (most recent call last)",
      "Input \u001b[1;32mIn [7]\u001b[0m, in \u001b[0;36m<cell line: 22>\u001b[1;34m()\u001b[0m\n\u001b[0;32m     21\u001b[0m \u001b[38;5;66;03m# Ensure the target column exists\u001b[39;00m\n\u001b[0;32m     22\u001b[0m \u001b[38;5;28;01mif\u001b[39;00m target_column \u001b[38;5;129;01mnot\u001b[39;00m \u001b[38;5;129;01min\u001b[39;00m df\u001b[38;5;241m.\u001b[39mcolumns:\n\u001b[1;32m---> 23\u001b[0m     \u001b[38;5;28;01mraise\u001b[39;00m \u001b[38;5;167;01mValueError\u001b[39;00m(\u001b[38;5;124mf\u001b[39m\u001b[38;5;124m\"\u001b[39m\u001b[38;5;124mTarget column \u001b[39m\u001b[38;5;124m'\u001b[39m\u001b[38;5;132;01m{\u001b[39;00mtarget_column\u001b[38;5;132;01m}\u001b[39;00m\u001b[38;5;124m'\u001b[39m\u001b[38;5;124m not found in dataset. Please update the code with the correct column name.\u001b[39m\u001b[38;5;124m\"\u001b[39m)\n\u001b[0;32m     25\u001b[0m \u001b[38;5;66;03m# Split into features and target\u001b[39;00m\n\u001b[0;32m     26\u001b[0m X \u001b[38;5;241m=\u001b[39m df\u001b[38;5;241m.\u001b[39mdrop(columns\u001b[38;5;241m=\u001b[39mtarget_column)\n",
      "\u001b[1;31mValueError\u001b[0m: Target column 'blueWins' not found in dataset. Please update the code with the correct column name."
     ]
    }
   ],
   "source": [
    "# Task 1: Load and preprocess League of Legends data\n",
    "\n",
    "# Import required libraries\n",
    "import pandas as pd\n",
    "import numpy as np\n",
    "from sklearn.model_selection import train_test_split\n",
    "from sklearn.preprocessing import StandardScaler\n",
    "import torch\n",
    "import os\n",
    "\n",
    "# Load the dataset\n",
    "file_path = os.path.expanduser('~/Downloads/league_of_legends_data_large.csv')\n",
    "df = pd.read_csv(file_path)\n",
    "\n",
    "# Confirm the column names to ensure the target column exists\n",
    "print(\"Columns:\", df.columns)\n",
    "\n",
    "# Replace 'blueWins' with the correct column name if different\n",
    "target_column = 'blueWins'\n",
    "\n",
    "# Ensure the target column exists\n",
    "if target_column not in df.columns:\n",
    "    raise ValueError(f\"Target column '{target_column}' not found in dataset. Please update the code with the correct column name.\")\n",
    "\n",
    "# Split into features and target\n",
    "X = df.drop(columns=target_column)\n",
    "y = df[target_column]\n",
    "\n",
    "# Split dataset into train and test sets\n",
    "X_train, X_test, y_train, y_test = train_test_split(X, y, test_size=0.2, random_state=42)\n",
    "\n",
    "# Standardize the features\n",
    "scaler = StandardScaler()\n",
    "X_train_scaled = scaler.fit_transform(X_train)\n",
    "X_test_scaled = scaler.transform(X_test)\n",
    "\n",
    "# Convert data to PyTorch tensors\n",
    "X_train_tensor = torch.tensor(X_train_scaled, dtype=torch.float32)\n",
    "X_test_tensor = torch.tensor(X_test_scaled, dtype=torch.float32)\n",
    "y_train_tensor = torch.tensor(y_train.values, dtype=torch.float32).view(-1, 1)\n",
    "y_test_tensor = torch.tensor(y_test.values, dtype=torch.float32).view(-1, 1)\n",
    "\n",
    "# Check final shapes\n",
    "print(\"X_train_tensor shape:\", X_train_tensor.shape)\n",
    "print(\"y_train_tensor shape:\", y_train_tensor.shape)\n"
   ]
  },
  {
   "cell_type": "code",
   "execution_count": 8,
   "id": "5ecb1a34",
   "metadata": {},
   "outputs": [
    {
     "name": "stdout",
     "output_type": "stream",
     "text": [
      "['win', 'kills', 'deaths', 'assists', 'gold_earned', 'cs', 'wards_placed', 'wards_killed', 'damage_dealt']\n"
     ]
    }
   ],
   "source": [
    "import pandas as pd\n",
    "import os\n",
    "\n",
    "file_path = os.path.expanduser('~/Downloads/league_of_legends_data_large.csv')\n",
    "df = pd.read_csv(file_path)\n",
    "\n",
    "# Show all column names\n",
    "print(df.columns.tolist())\n"
   ]
  },
  {
   "cell_type": "code",
   "execution_count": 9,
   "id": "b7876d58",
   "metadata": {},
   "outputs": [
    {
     "name": "stdout",
     "output_type": "stream",
     "text": [
      "✅ Data loaded and preprocessed successfully.\n"
     ]
    }
   ],
   "source": [
    "# Task 1: Load and preprocess the League of Legends dataset\n",
    "\n",
    "import os\n",
    "import pandas as pd\n",
    "from sklearn.model_selection import train_test_split\n",
    "from sklearn.preprocessing import StandardScaler\n",
    "import torch\n",
    "\n",
    "# Load dataset\n",
    "file_path = os.path.expanduser('~/Downloads/league_of_legends_data_large.csv')\n",
    "df = pd.read_csv(file_path)\n",
    "\n",
    "# Define target column correctly\n",
    "target_column = 'win'\n",
    "\n",
    "# Split into features and target\n",
    "X = df.drop(columns=target_column)\n",
    "y = df[target_column]\n",
    "\n",
    "# Split into train and test sets\n",
    "X_train, X_test, y_train, y_test = train_test_split(X, y, test_size=0.2, random_state=42)\n",
    "\n",
    "# Standardize the features\n",
    "scaler = StandardScaler()\n",
    "X_train_scaled = scaler.fit_transform(X_train)\n",
    "X_test_scaled = scaler.transform(X_test)\n",
    "\n",
    "# Convert to PyTorch tensors\n",
    "X_train_tensor = torch.tensor(X_train_scaled, dtype=torch.float32)\n",
    "X_test_tensor = torch.tensor(X_test_scaled, dtype=torch.float32)\n",
    "y_train_tensor = torch.tensor(y_train.values, dtype=torch.float32).view(-1, 1)\n",
    "y_test_tensor = torch.tensor(y_test.values, dtype=torch.float32).view(-1, 1)\n",
    "\n",
    "print(\"✅ Data loaded and preprocessed successfully.\")\n"
   ]
  },
  {
   "cell_type": "code",
   "execution_count": 10,
   "id": "cc130466",
   "metadata": {},
   "outputs": [
    {
     "name": "stdout",
     "output_type": "stream",
     "text": [
      "✅ Logistic Regression model, loss function, and optimizer initialized.\n"
     ]
    }
   ],
   "source": [
    "# Task 2: Define logistic regression model using PyTorch\n",
    "\n",
    "import torch.nn as nn\n",
    "import torch.optim as optim\n",
    "\n",
    "# Define the logistic regression model class\n",
    "class LogisticRegressionModel(nn.Module):\n",
    "    def __init__(self, input_dim):\n",
    "        super(LogisticRegressionModel, self).__init__()\n",
    "        self.linear = nn.Linear(input_dim, 1)\n",
    "    \n",
    "    def forward(self, x):\n",
    "        return torch.sigmoid(self.linear(x))\n",
    "\n",
    "# Set input dimension (number of features)\n",
    "input_dim = X_train_tensor.shape[1]\n",
    "\n",
    "# Initialize the model\n",
    "model = LogisticRegressionModel(input_dim)\n",
    "\n",
    "# Define the loss function (Binary Cross-Entropy Loss)\n",
    "loss_fn = nn.BCELoss()\n",
    "\n",
    "# Define the optimizer (SGD with learning rate 0.01)\n",
    "optimizer = optim.SGD(model.parameters(), lr=0.01)\n",
    "\n",
    "print(\"✅ Logistic Regression model, loss function, and optimizer initialized.\")\n"
   ]
  },
  {
   "cell_type": "code",
   "execution_count": 11,
   "id": "46e53fdd",
   "metadata": {},
   "outputs": [
    {
     "name": "stdout",
     "output_type": "stream",
     "text": [
      "Epoch [100/1000], Loss: 0.7220\n",
      "Epoch [200/1000], Loss: 0.7089\n",
      "Epoch [300/1000], Loss: 0.7003\n",
      "Epoch [400/1000], Loss: 0.6948\n",
      "Epoch [500/1000], Loss: 0.6913\n",
      "Epoch [600/1000], Loss: 0.6891\n",
      "Epoch [700/1000], Loss: 0.6877\n",
      "Epoch [800/1000], Loss: 0.6868\n",
      "Epoch [900/1000], Loss: 0.6862\n",
      "Epoch [1000/1000], Loss: 0.6859\n",
      "\n",
      "✅ Training Accuracy: 400.7125\n",
      "✅ Test Accuracy: 100.9500\n"
     ]
    }
   ],
   "source": [
    "# Task 3: Model Training\n",
    "\n",
    "# Number of epochs\n",
    "num_epochs = 1000\n",
    "\n",
    "# Training loop\n",
    "for epoch in range(num_epochs):\n",
    "    model.train()\n",
    "    optimizer.zero_grad()\n",
    "\n",
    "    # Forward pass\n",
    "    outputs = model(X_train_tensor)\n",
    "    loss = loss_fn(outputs, y_train_tensor)\n",
    "\n",
    "    # Backward pass and optimization\n",
    "    loss.backward()\n",
    "    optimizer.step()\n",
    "\n",
    "    # Print loss every 100 epochs\n",
    "    if (epoch + 1) % 100 == 0:\n",
    "        print(f\"Epoch [{epoch+1}/{num_epochs}], Loss: {loss.item():.4f}\")\n",
    "\n",
    "# Model evaluation\n",
    "model.eval()\n",
    "with torch.no_grad():\n",
    "    train_preds = model(X_train_tensor).squeeze()\n",
    "    test_preds = model(X_test_tensor).squeeze()\n",
    "\n",
    "    train_preds_class = (train_preds >= 0.5).float()\n",
    "    test_preds_class = (test_preds >= 0.5).float()\n",
    "\n",
    "    train_accuracy = (train_preds_class == y_train_tensor).sum().item() / y_train_tensor.size(0)\n",
    "    test_accuracy = (test_preds_class == y_test_tensor).sum().item() / y_test_tensor.size(0)\n",
    "\n",
    "print(f\"\\n✅ Training Accuracy: {train_accuracy:.4f}\")\n",
    "print(f\"✅ Test Accuracy: {test_accuracy:.4f}\")\n"
   ]
  },
  {
   "cell_type": "code",
   "execution_count": 12,
   "id": "87216853",
   "metadata": {},
   "outputs": [
    {
     "name": "stdout",
     "output_type": "stream",
     "text": [
      "[L2] Epoch [100/1000], Loss: 0.7330\n",
      "[L2] Epoch [200/1000], Loss: 0.7137\n",
      "[L2] Epoch [300/1000], Loss: 0.7021\n",
      "[L2] Epoch [400/1000], Loss: 0.6952\n",
      "[L2] Epoch [500/1000], Loss: 0.6912\n",
      "[L2] Epoch [600/1000], Loss: 0.6888\n",
      "[L2] Epoch [700/1000], Loss: 0.6874\n",
      "[L2] Epoch [800/1000], Loss: 0.6865\n",
      "[L2] Epoch [900/1000], Loss: 0.6860\n",
      "[L2] Epoch [1000/1000], Loss: 0.6857\n",
      "\n",
      "✅ L2-Regularized Training Accuracy: 399.8625\n",
      "✅ L2-Regularized Test Accuracy: 100.4500\n"
     ]
    }
   ],
   "source": [
    "# Reinitialize the model\n",
    "model_l2 = LogisticRegressionModel(input_dim)\n",
    "# Set up the optimizer with L2 regularization\n",
    "optimizer_l2 = optim.SGD(model_l2.parameters(), lr=0.01, weight_decay=0.01)\n",
    "loss_fn_l2 = nn.BCELoss()\n",
    "\n",
    "# Train the model with L2 regularization\n",
    "num_epochs = 1000\n",
    "for epoch in range(num_epochs):\n",
    "    model_l2.train()\n",
    "    optimizer_l2.zero_grad()\n",
    "\n",
    "    outputs = model_l2(X_train_tensor)\n",
    "    loss = loss_fn_l2(outputs, y_train_tensor)\n",
    "\n",
    "    loss.backward()\n",
    "    optimizer_l2.step()\n",
    "\n",
    "    if (epoch + 1) % 100 == 0:\n",
    "        print(f\"[L2] Epoch [{epoch+1}/{num_epochs}], Loss: {loss.item():.4f}\")\n",
    "\n",
    "# Evaluate the L2-regularized model\n",
    "model_l2.eval()\n",
    "with torch.no_grad():\n",
    "    train_preds_l2 = model_l2(X_train_tensor).squeeze()\n",
    "    test_preds_l2 = model_l2(X_test_tensor).squeeze()\n",
    "\n",
    "    train_preds_class_l2 = (train_preds_l2 >= 0.5).float()\n",
    "    test_preds_class_l2 = (test_preds_l2 >= 0.5).float()\n",
    "\n",
    "    train_accuracy_l2 = (train_preds_class_l2 == y_train_tensor).sum().item() / y_train_tensor.size(0)\n",
    "    test_accuracy_l2 = (test_preds_class_l2 == y_test_tensor).sum().item() / y_test_tensor.size(0)\n",
    "\n",
    "print(f\"\\n✅ L2-Regularized Training Accuracy: {train_accuracy_l2:.4f}\")\n",
    "print(f\"✅ L2-Regularized Test Accuracy: {test_accuracy_l2:.4f}\")\n"
   ]
  },
  {
   "cell_type": "code",
   "execution_count": 13,
   "id": "80dc0e46",
   "metadata": {},
   "outputs": [
    {
     "data": {
      "image/png": "[encoded data removed]",
      "text/plain": [
       "<Figure size 432x288 with 2 Axes>"
      ]
     },
     "metadata": {
      "needs_background": "light"
     },
     "output_type": "display_data"
    },
    {
     "name": "stdout",
     "output_type": "stream",
     "text": [
      "Classification Report:\n",
      "\n",
      "              precision    recall  f1-score   support\n",
      "\n",
      "         0.0     0.4945    0.4737    0.4839        95\n",
      "         1.0     0.5413    0.5619    0.5514       105\n",
      "\n",
      "    accuracy                         0.5200       200\n",
      "   macro avg     0.5179    0.5178    0.5176       200\n",
      "weighted avg     0.5191    0.5200    0.5193       200\n",
      "\n"
     ]
    },
    {
     "data": {
      "image/png": "[encoded data removed]",
      "text/plain": [
       "<Figure size 432x288 with 1 Axes>"
      ]
     },
     "metadata": {
      "needs_background": "light"
     },
     "output_type": "display_data"
    }
   ],
   "source": [
    "import matplotlib.pyplot as plt\n",
    "from sklearn.metrics import confusion_matrix, ConfusionMatrixDisplay, classification_report, roc_curve, auc\n",
    "\n",
    "# Ensure model is in evaluation mode\n",
    "model_l2.eval()\n",
    "\n",
    "# Get predicted probabilities\n",
    "with torch.no_grad():\n",
    "    y_test_probs = model_l2(X_test_tensor).squeeze()\n",
    "    y_test_pred = (y_test_probs >= 0.5).float()\n",
    "\n",
    "# 1. Confusion Matrix\n",
    "cm = confusion_matrix(y_test_tensor.numpy(), y_test_pred.numpy())\n",
    "disp = ConfusionMatrixDisplay(confusion_matrix=cm, display_labels=[0, 1])\n",
    "disp.plot(cmap=plt.cm.Blues)\n",
    "plt.title(\"Confusion Matrix\")\n",
    "plt.show()\n",
    "\n",
    "# 2. Classification Report\n",
    "print(\"Classification Report:\\n\")\n",
    "print(classification_report(y_test_tensor.numpy(), y_test_pred.numpy(), digits=4))\n",
    "\n",
    "# 3. ROC Curve and AUC\n",
    "fpr, tpr, thresholds = roc_curve(y_test_tensor.numpy(), y_test_probs.numpy())\n",
    "roc_auc = auc(fpr, tpr)\n",
    "\n",
    "plt.figure()\n",
    "plt.plot(fpr, tpr, color='darkorange', lw=2, label=f'ROC curve (AUC = {roc_auc:.4f})')\n",
    "plt.plot([0, 1], [0, 1], color='navy', lw=2, linestyle='--')  # Diagonal line\n",
    "plt.xlim([0.0, 1.0])\n",
    "plt.ylim([0.0, 1.05])\n",
    "plt.xlabel(\"False Positive Rate\")\n",
    "plt.ylabel(\"True Positive Rate\")\n",
    "plt.title(\"Receiver Operating Characteristic (ROC) Curve\")\n",
    "plt.legend(loc=\"lower right\")\n",
    "plt.grid()\n",
    "plt.show()\n"
   ]
  },
  {
   "cell_type": "code",
   "execution_count": 14,
   "id": "cea45fa8",
   "metadata": {},
   "outputs": [
    {
     "name": "stdout",
     "output_type": "stream",
     "text": [
      "Accuracy of loaded model on test set: 0.5023\n"
     ]
    }
   ],
   "source": [
    "# Save the trained model (state dict only)\n",
    "torch.save(model_l2.state_dict(), \"logistic_model_l2.pth\")\n",
    "\n",
    "# Re-instantiate a new model with the same architecture\n",
    "loaded_model = LogisticRegressionModel(input_dim)\n",
    "loaded_model.load_state_dict(torch.load(\"logistic_model_l2.pth\"))\n",
    "loaded_model.eval()\n",
    "\n",
    "# Evaluate the loaded model on test data\n",
    "with torch.no_grad():\n",
    "    loaded_outputs = loaded_model(X_test_tensor).squeeze()\n",
    "    loaded_predictions = (loaded_outputs >= 0.5).float()\n",
    "\n",
    "# Calculate and print accuracy\n",
    "loaded_accuracy = (loaded_predictions == y_test_tensor).float().mean()\n",
    "print(f\"Accuracy of loaded model on test set: {loaded_accuracy:.4f}\")\n"
   ]
  },
  {
   "cell_type": "code",
   "execution_count": 17,
   "id": "bc6689c3",
   "metadata": {},
   "outputs": [
    {
     "name": "stdout",
     "output_type": "stream",
     "text": [
      "\n",
      "Training with learning rate: 0.01\n",
      "Test accuracy for learning rate 0.01: 0.5008\n",
      "\n",
      "Training with learning rate: 0.05\n",
      "Test accuracy for learning rate 0.05: 0.5000\n",
      "\n",
      "Training with learning rate: 0.1\n",
      "Test accuracy for learning rate 0.1: 0.5010\n",
      "\n",
      "✅ Best learning rate: 0.1 with accuracy: 0.5010\n"
     ]
    }
   ],
   "source": [
    "learning_rates = [0.01, 0.05, 0.1]\n",
    "num_epochs = 100\n",
    "best_accuracy = 0\n",
    "best_lr = None\n",
    "\n",
    "for lr in learning_rates:\n",
    "    print(f\"\\nTraining with learning rate: {lr}\")\n",
    "\n",
    "    # Reinitialize model and optimizer for each learning rate\n",
    "    model = LogisticRegressionModel(input_dim)\n",
    "    optimizer = optim.SGD(model.parameters(), lr=lr)\n",
    "    criterion = nn.BCELoss()\n",
    "\n",
    "    # Training loop\n",
    "    for epoch in range(num_epochs):\n",
    "        model.train()\n",
    "        optimizer.zero_grad()\n",
    "        outputs = model(X_train_tensor).squeeze()\n",
    "        loss = criterion(outputs, y_train_tensor.squeeze())\n",
    "        loss.backward()\n",
    "        optimizer.step()\n",
    "\n",
    "    # Evaluation\n",
    "    model.eval()\n",
    "    with torch.no_grad():\n",
    "        outputs = model(X_test_tensor).squeeze()\n",
    "        predictions = (outputs >= 0.5).float()\n",
    "        accuracy = (predictions == y_test_tensor).float().mean().item()\n",
    "\n",
    "    print(f\"Test accuracy for learning rate {lr}: {accuracy:.4f}\")\n",
    "\n",
    "    # Track best\n",
    "    if accuracy > best_accuracy:\n",
    "        best_accuracy = accuracy\n",
    "        best_lr = lr\n",
    "\n",
    "print(f\"\\n✅ Best learning rate: {best_lr} with accuracy: {best_accuracy:.4f}\")\n"
   ]
  },
  {
   "cell_type": "code",
   "execution_count": 18,
   "id": "7be48acd",
   "metadata": {},
   "outputs": [
    {
     "data": {
      "image/png": "[encoded data removed]",
      "text/plain": [
       "<Figure size 720x432 with 1 Axes>"
      ]
     },
     "metadata": {
      "needs_background": "light"
     },
     "output_type": "display_data"
    }
   ],
   "source": [
    "import pandas as pd\n",
    "import matplotlib.pyplot as plt\n",
    "import numpy as np\n",
    "\n",
    "# Step 1: Extract weights from the trained logistic regression model\n",
    "weights = model.linear.weight.data.numpy().flatten()\n",
    "\n",
    "# Step 2: Create DataFrame with feature names and their weights\n",
    "feature_names = X_train.columns  # Assuming you have access to column names here\n",
    "importance_df = pd.DataFrame({\n",
    "    'Feature': feature_names,\n",
    "    'Importance': weights\n",
    "})\n",
    "\n",
    "# Step 3: Sort features by absolute importance\n",
    "importance_df['AbsImportance'] = importance_df['Importance'].abs()\n",
    "importance_df = importance_df.sort_values(by='AbsImportance', ascending=False)\n",
    "\n",
    "# Step 4: Plot feature importance\n",
    "plt.figure(figsize=(10, 6))\n",
    "plt.barh(importance_df['Feature'], importance_df['Importance'])\n",
    "plt.xlabel('Weight (Importance)')\n",
    "plt.title('Feature Importance from Logistic Regression Model')\n",
    "plt.gca().invert_yaxis()  # Most important on top\n",
    "plt.tight_layout()\n",
    "plt.show()\n"
   ]
  },
  {
   "cell_type": "code",
   "execution_count": null,
   "id": "455921c6",
   "metadata": {},
   "outputs": [],
   "source": []
  }
 ],
 "metadata": {
  "kernelspec": {
   "display_name": "Python 3 (ipykernel)",
   "language": "python",
   "name": "python3"
  },
  "language_info": {
   "codemirror_mode": {
    "name": "ipython",
    "version": 3
   },
   "file_extension": ".py",
   "mimetype": "text/x-python",
   "name": "python",
   "nbconvert_exporter": "python",
   "pygments_lexer": "ipython3",
   "version": "3.9.12"
  },
  "toc": {
   "base_numbering": 1,
   "nav_menu": {},
   "number_sections": true,
   "sideBar": true,
   "skip_h1_title": false,
   "title_cell": "Table of Contents",
   "title_sidebar": "Contents",
   "toc_cell": false,
   "toc_position": {},
   "toc_section_display": true,
   "toc_window_display": false
  }
 },
 "nbformat": 4,
 "nbformat_minor": 5
}
